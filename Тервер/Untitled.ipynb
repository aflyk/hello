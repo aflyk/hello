{
 "cells": [
  {
   "cell_type": "markdown",
   "metadata": {},
   "source": [
    "### Найти доверительный интервал для оценки математического ожидания $a$ нормального распределения с надежностью 0,95, зная выборочную среднюю $ \\overline{x} = 75.12$, объем выборки $n=121$ и среднее квадратическое отклонение $\\sigma=11$."
   ]
  },
  {
   "cell_type": "markdown",
   "metadata": {},
   "source": [
    "$$T_{1,2} = \\overline{X} \\pm \\frac{s_0}{\\sqrt{n}} \\cdot c_{\\gamma}$$"
   ]
  },
  {
   "cell_type": "code",
   "execution_count": 1,
   "metadata": {},
   "outputs": [],
   "source": [
    "not_x = 75.12\n",
    "n = 121\n",
    "sigma = 11\n",
    "cy = 1.96"
   ]
  },
  {
   "cell_type": "code",
   "execution_count": 2,
   "metadata": {},
   "outputs": [],
   "source": [
    "t = [not_x - cy*(sigma/n**0.5),not_x + cy*(sigma/n**0.5)]"
   ]
  },
  {
   "cell_type": "code",
   "execution_count": 3,
   "metadata": {},
   "outputs": [
    {
     "data": {
      "text/plain": [
       "[73.16000000000001, 77.08]"
      ]
     },
     "execution_count": 3,
     "metadata": {},
     "output_type": "execute_result"
    }
   ],
   "source": [
    "t"
   ]
  },
  {
   "cell_type": "markdown",
   "metadata": {},
   "source": [
    "### С целью размещения рекламы опрошено 600 телезрителей, из которых данную передачу смотрят 170 человек. С доверительной вероятностью 0,91 найти долю телезрителей, охваченных рекламой в наихудшем случае."
   ]
  },
  {
   "cell_type": "code",
   "execution_count": 6,
   "metadata": {},
   "outputs": [
    {
     "data": {
      "text/plain": [
       "[0.2829949074074074, 0.28367175925925925]"
      ]
     },
     "execution_count": 6,
     "metadata": {},
     "output_type": "execute_result"
    }
   ],
   "source": [
    "n = 600\n",
    "people = 170\n",
    "w = people/n\n",
    "dw = ((w*(1-w))/n)\n",
    "cy = 1.7\n",
    "m = cy*dw\n",
    "rez = [w-dw, w+dw]\n",
    "rez"
   ]
  },
  {
   "cell_type": "markdown",
   "metadata": {},
   "source": [
    "### Определите к какому типу ошибок (ошибка 1-го или 2-го рода) относятся: a) Багаж проверяется в аэропорту. Система сработала на одном из предметов находящихся в багаже, однако этот предмет оружием не является. b) Основываясь на результатах предсказания скоринговой модели клиенту банка выдали кредит, однако этот клиент кредит не погасил. c) Тест на коронавирус показал у пациента положительный результат, однако при повторном тестировании выяснилось что пациент здоров. d) Тест на коронавирус показал отрицательный результат, но оказалось что пациент болен. e) Антивирусное программное обеспечение классифицировало файл как безопасный, однако он оказался вирусом. f) Антивирусное программное обеспечение ошибочно классифицировало безвредный файл как вирус."
   ]
  },
  {
   "cell_type": "markdown",
   "metadata": {},
   "source": [
    "a) 1\n",
    "b) 2\n",
    "c) 1\n",
    "d) 2\n",
    "e) 2\n",
    "f) 1"
   ]
  }
 ],
 "metadata": {
  "kernelspec": {
   "display_name": "Python 3",
   "language": "python",
   "name": "python3"
  },
  "language_info": {
   "codemirror_mode": {
    "name": "ipython",
    "version": 3
   },
   "file_extension": ".py",
   "mimetype": "text/x-python",
   "name": "python",
   "nbconvert_exporter": "python",
   "pygments_lexer": "ipython3",
   "version": "3.8.2"
  }
 },
 "nbformat": 4,
 "nbformat_minor": 4
}

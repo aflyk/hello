{
 "cells": [
  {
   "cell_type": "markdown",
   "metadata": {},
   "source": [
    "Используя встроенные функции numpy (np.random.normal) сгенирируйте нормальное распределение c размерами выборки 10, 100, 1000 и 10000. Постройте гистограммы распределений. Рассчитайте среднее значение, медиану и моду для каждой выборке и сравните эти величины в пределах выборки."
   ]
  },
  {
   "cell_type": "code",
   "execution_count": 2,
   "metadata": {},
   "outputs": [],
   "source": [
    "import pandas as pd\n",
    "import numpy as np\n",
    "import matplotlib.pyplot as plt"
   ]
  },
  {
   "cell_type": "code",
   "execution_count": 46,
   "metadata": {},
   "outputs": [],
   "source": [
    "def ran_num(size):\n",
    "    sample = np.random.normal(size=size)\n",
    "    plt.hist(sample, bins=10)\n",
    "    plt.show()\n",
    "    sample = pd.Series(sample)\n",
    "    print(f\"среднее значение - {sample.mean()} \\n\")\n",
    "    print(f\"мода \\n {sample.mode()} \\n\")\n",
    "    print(f\"медиана - {sample.median()}\")\n",
    "    "
   ]
  },
  {
   "cell_type": "code",
   "execution_count": 42,
   "metadata": {},
   "outputs": [
    {
     "data": {
      "image/png": "[encoded data removed]",
      "text/plain": [
       "<Figure size 432x288 with 1 Axes>"
      ]
     },
     "metadata": {
      "needs_background": "light"
     },
     "output_type": "display_data"
    },
    {
     "name": "stdout",
     "output_type": "stream",
     "text": [
      "среднее значение - 0.42223284228101265 \n",
      "\n",
      "мода - 0   -1.158908\n",
      "1   -0.412885\n",
      "2   -0.124457\n",
      "3   -0.018846\n",
      "4    0.236554\n",
      "5    0.705063\n",
      "6    0.914262\n",
      "7    1.048152\n",
      "8    1.508142\n",
      "9    1.525251\n",
      "dtype: float64 \n",
      "\n",
      "медиана - 0.4708084728106787\n"
     ]
    }
   ],
   "source": [
    "ran_num(10)"
   ]
  },
  {
   "cell_type": "code",
   "execution_count": 43,
   "metadata": {},
   "outputs": [
    {
     "data": {
      "image/png": "[encoded data removed]",
      "text/plain": [
       "<Figure size 432x288 with 1 Axes>"
      ]
     },
     "metadata": {
      "needs_background": "light"
     },
     "output_type": "display_data"
    },
    {
     "name": "stdout",
     "output_type": "stream",
     "text": [
      "среднее значение - 0.010347307806543398 \n",
      "\n",
      "мода - 0    -2.449939\n",
      "1    -2.096409\n",
      "2    -2.083618\n",
      "3    -1.994542\n",
      "4    -1.794742\n",
      "        ...   \n",
      "95    1.449478\n",
      "96    1.469311\n",
      "97    1.547881\n",
      "98    1.828985\n",
      "99    2.634411\n",
      "Length: 100, dtype: float64 \n",
      "\n",
      "медиана - 0.0758646468812733\n"
     ]
    }
   ],
   "source": [
    "ran_num(100)"
   ]
  },
  {
   "cell_type": "code",
   "execution_count": 44,
   "metadata": {},
   "outputs": [
    {
     "data": {
      "image/png": "[encoded data removed]",
      "text/plain": [
       "<Figure size 432x288 with 1 Axes>"
      ]
     },
     "metadata": {
      "needs_background": "light"
     },
     "output_type": "display_data"
    },
    {
     "name": "stdout",
     "output_type": "stream",
     "text": [
      "среднее значение - 0.02258255388428614 \n",
      "\n",
      "мода - 0     -2.753438\n",
      "1     -2.659600\n",
      "2     -2.554170\n",
      "3     -2.451086\n",
      "4     -2.324080\n",
      "         ...   \n",
      "995    2.620203\n",
      "996    2.646275\n",
      "997    2.864589\n",
      "998    2.871977\n",
      "999    3.464998\n",
      "Length: 1000, dtype: float64 \n",
      "\n",
      "медиана - -0.03233011550842951\n"
     ]
    }
   ],
   "source": [
    "ran_num(1000)"
   ]
  },
  {
   "cell_type": "code",
   "execution_count": 47,
   "metadata": {},
   "outputs": [
    {
     "data": {
      "image/png": "[encoded data removed]",
      "text/plain": [
       "<Figure size 432x288 with 1 Axes>"
      ]
     },
     "metadata": {
      "needs_background": "light"
     },
     "output_type": "display_data"
    },
    {
     "name": "stdout",
     "output_type": "stream",
     "text": [
      "среднее значение - 0.017772525057500536 \n",
      "\n",
      "мода \n",
      " 0     -2.863620\n",
      "1     -2.825415\n",
      "2     -2.709294\n",
      "3     -2.651833\n",
      "4     -2.590050\n",
      "         ...   \n",
      "995    2.693194\n",
      "996    2.713734\n",
      "997    2.792306\n",
      "998    3.078814\n",
      "999    3.108470\n",
      "Length: 1000, dtype: float64 \n",
      "\n",
      "медиана - 0.003867158406435713\n"
     ]
    }
   ],
   "source": [
    "ran_num(1000)"
   ]
  },
  {
   "cell_type": "code",
   "execution_count": null,
   "metadata": {},
   "outputs": [],
   "source": [
    "#Думаю тут по идее, должно быть чем больше размерность массива тем ближе мода, ср знач и медиана друг другу"
   ]
  },
  {
   "cell_type": "markdown",
   "metadata": {},
   "source": [
    "### Плотность распределения вероятностей нормальной случайной величины X имеет вид f(x) = g e^{-x^2 + 6x + 3}. Требуется найти: a) неизвестный параметр g b) математическое ожидание M(X) и дисперсию D(X)"
   ]
  },
  {
   "cell_type": "code",
   "execution_count": 49,
   "metadata": {},
   "outputs": [],
   "source": [
    "#g = (-2x+6)"
   ]
  },
  {
   "cell_type": "code",
   "execution_count": null,
   "metadata": {},
   "outputs": [],
   "source": []
  },
  {
   "cell_type": "code",
   "execution_count": null,
   "metadata": {},
   "outputs": [],
   "source": []
  },
  {
   "cell_type": "code",
   "execution_count": null,
   "metadata": {},
   "outputs": [],
   "source": []
  }
 ],
 "metadata": {
  "kernelspec": {
   "display_name": "Python 3",
   "language": "python",
   "name": "python3"
  },
  "language_info": {
   "codemirror_mode": {
    "name": "ipython",
    "version": 3
   },
   "file_extension": ".py",
   "mimetype": "text/x-python",
   "name": "python",
   "nbconvert_exporter": "python",
   "pygments_lexer": "ipython3",
   "version": "3.8.2"
  }
 },
 "nbformat": 4,
 "nbformat_minor": 4
}

{
 "cells": [
  {
   "cell_type": "markdown",
   "metadata": {},
   "source": [
    "1)Написать приложение, которое собирает основные новости с сайтов news.mail.ru, lenta.ru, yandex.news\n",
    "Для парсинга использовать xpath. Структура данных должна содержать:\n",
    "название источника,\n",
    "наименование новости,\n",
    "ссылку на новость,\n",
    "дата публикации\n",
    "\n",
    "2)Сложить все новости в БД"
   ]
  },
  {
   "cell_type": "code",
   "execution_count": 1,
   "metadata": {},
   "outputs": [],
   "source": [
    "import requests\n",
    "from lxml import html\n",
    "from pymongo import MongoClient\n",
    "from pprint import pprint\n",
    "from datetime import datetime, date"
   ]
  },
  {
   "cell_type": "code",
   "execution_count": 2,
   "metadata": {},
   "outputs": [],
   "source": [
    "#задаем хедер для видимости использования браузера\n",
    "header = {'User_Agent':'Mozilla/5.0 (Windows NT 10.0; Win64; x64) \\\n",
    "            AppleWebKit/537.36 (KHTML, like Gecko) Chrome/83.0.4103.116 Safari/537.36'}\n",
    "\n",
    "#запускаем монго клиент с стандарными настройками\n",
    "client = MongoClient('localhost', 27017)\n",
    "#создаем новую бд \n",
    "db = client['News']\n",
    "lenta = db.lenta\n",
    "yandex = db.yandex\n",
    "mail = db.mail\n"
   ]
  },
  {
   "cell_type": "markdown",
   "metadata": {},
   "source": [
    "### lenta.ru"
   ]
  },
  {
   "cell_type": "code",
   "execution_count": 9,
   "metadata": {},
   "outputs": [
    {
     "name": "stdout",
     "output_type": "stream",
     "text": [
      "[{'date': ' 22:35,  6 июля 2020',\n",
      "  'link': 'https://lenta.ru/news/2020/07/06/rus_us/',\n",
      "  'name': 'Россия объявила об утрате доверия к США',\n",
      "  'source': 'https://lenta.ru'},\n",
      " {'date': ' 23:52,  6 июля 2020',\n",
      "  'link': 'https://lenta.ru/news/2020/07/06/sokolov/',\n",
      "  'name': 'Стало известно о звонке историка Соколова в посольство Франции',\n",
      "  'source': 'https://lenta.ru'},\n",
      " {'date': ' 23:36,  6 июля 2020',\n",
      "  'link': 'https://lenta.ru/news/2020/07/06/opponenty/',\n",
      "  'name': 'Адвокат Ефремова заявил о готовности снова лишиться '\n",
      "          'профессионального статуса',\n",
      "  'source': 'https://lenta.ru'},\n",
      " {'date': ' 23:19,  6 июля 2020',\n",
      "  'link': 'https://lenta.ru/news/2020/07/06/us_uk/',\n",
      "  'name': 'США оценили введенные Великобританией санкции против россиян',\n",
      "  'source': 'https://lenta.ru'},\n",
      " {'date': ' 23:12,  6 июля 2020',\n",
      "  'link': 'https://lenta.ru/news/2020/07/06/drug_house/',\n",
      "  'name': 'Москвичи пожаловались на оккупировавших многоквартирный дом '\n",
      "          'наркокурьеров',\n",
      "  'source': 'https://lenta.ru'},\n",
      " {'date': ' 23:10,  6 июля 2020',\n",
      "  'link': 'https://lenta.ru/news/2020/07/06/24patients/',\n",
      "  'name': 'В Москве умерли 24 пациента с коронавирусом',\n",
      "  'source': 'https://lenta.ru'},\n",
      " {'date': ' 23:06,  6 июля 2020',\n",
      "  'link': 'https://lenta.ru/news/2020/07/06/uroven/',\n",
      "  'name': 'Уровень смертности от коронавируса в США назвали самым низким в '\n",
      "          'мире',\n",
      "  'source': 'https://lenta.ru'},\n",
      " {'date': ' 23:05,  6 июля 2020',\n",
      "  'link': 'https://lenta.ru/news/2020/07/06/naevv/',\n",
      "  'name': 'На Украине оценили заявление ВМС о подготовке к войне с Россией',\n",
      "  'source': 'https://lenta.ru'},\n",
      " {'date': ' 22:57,  6 июля 2020',\n",
      "  'link': 'https://lenta.ru/news/2020/07/06/jenner/',\n",
      "  'name': 'Бывшая самая молодая миллиардерша отвергла обвинения в эксплуатации '\n",
      "          'работников',\n",
      "  'source': 'https://lenta.ru'},\n",
      " {'date': ' 19:52,  6 июля 2020',\n",
      "  'link': 'https://lenta.ru/news/2020/07/06/unfaithful_electors/',\n",
      "  'name': 'Верховный суд США изменил правила президентских выборов',\n",
      "  'source': 'https://lenta.ru'}]\n"
     ]
    }
   ],
   "source": [
    "response = requests.get('https://lenta.ru/',\n",
    "                            headers=header)\n",
    "dom = html.fromstring(response.text)\n",
    "data_lenta = []\n",
    "items = dom.xpath(\"//section[contains(@class, 'top7')]//div[contains(@class, 'item')]\")\n",
    "\n",
    "for item in items:\n",
    "    data = {}\n",
    "    source = 'https://lenta.ru'\n",
    "    name = item.xpath(\".//h2//a//text | .//a//text()\")\n",
    "    date = item.xpath(\".//h2//a//time//@datetime | .//a//time//@datetime\")\n",
    "    \n",
    "    link = item.xpath(\".//h2//a//@href | .//a//@href\")\n",
    "    if link[0][0] == '/':\n",
    "        link = source + link[0]\n",
    "    else:\n",
    "        link = link[0]\n",
    "        \n",
    "    data['name'] = name[1].replace('\\xa0', ' ')\n",
    "    data['source'] = source\n",
    "    data['link'] = link\n",
    "    data['date'] = date[0]\n",
    "    data_lenta.append(data)\n",
    "    \n",
    "pprint(data_lenta)"
   ]
  },
  {
   "cell_type": "markdown",
   "metadata": {},
   "source": [
    "### mail.ru"
   ]
  },
  {
   "cell_type": "code",
   "execution_count": 4,
   "metadata": {},
   "outputs": [
    {
     "name": "stdout",
     "output_type": "stream",
     "text": [
      "[{'date': '2020-07-06 18:07',\n",
      "  'link': 'https://news.mail.ru/politics/42467935/',\n",
      "  'name': 'Великобритания ввела санкции против россиян за нарушение прав '\n",
      "          'человека',\n",
      "  'sourse': 'https://rtvi.com'},\n",
      " {'date': '2020-07-06 18:03',\n",
      "  'link': 'https://news.mail.ru/politics/42467751/',\n",
      "  'name': 'Великобритания ввела персональные санкции против россиян по делу '\n",
      "          'Магнитского',\n",
      "  'sourse': 'http://www.tass.ru/'},\n",
      " {'date': '2020-07-06 17:42',\n",
      "  'link': 'https://news.mail.ru/politics/42466192/',\n",
      "  'name': 'Великобритания настроилась на санкции',\n",
      "  'sourse': 'https://www.kommersant.ru/fm'},\n",
      " {'date': '2020-07-06 16:33',\n",
      "  'link': 'https://news.mail.ru/politics/42466532/',\n",
      "  'name': 'Главком украинских ВМС пообещал вернуть флот в Севастополь',\n",
      "  'sourse': 'http://www.ria.ru'}]\n"
     ]
    }
   ],
   "source": [
    "response = requests.get('https://news.mail.ru/',\n",
    "                            headers=header)\n",
    "dom = html.fromstring(response.text)\n",
    "data_mail = []\n",
    "items = dom.xpath(\"//div[@class='cols__inner']\")\n",
    "\n",
    "for i in items:\n",
    "    if i.xpath(\".//span[text()='Политика']\"):\n",
    "        break\n",
    "        \n",
    "items = i.xpath(\".//li[@class='list__item'] | .//a[@class='newsitem__title link-holder']\")\n",
    "\n",
    "for item in items:\n",
    "    data = {}\n",
    "    name = item.xpath(\".//span[@class='link__text']//text() | .//span[@class='newsitem__title-inner']//text()\")\n",
    "    link = item.xpath(\".//a//@href | .//@href\")\n",
    "    \n",
    "    m_response = requests.get(link[0], headers=header)\n",
    "    m_dom = html.fromstring(m_response.text)\n",
    "    \n",
    "    date = m_dom.xpath(\"//span[@class='note__text breadcrumbs__text js-ago']//@datetime\")\n",
    "    date = date[0].replace('T', ' ')[:-9]\n",
    "    \n",
    "    sourse = m_dom.xpath(\"//a[@class='link color_gray breadcrumbs__link']//@href\")[0]\n",
    "    \n",
    "    data['date'] = date\n",
    "    data['sourse'] = sourse\n",
    "    data['name'] = name[0]\n",
    "    data['link'] = link[0]\n",
    "    \n",
    "    data_mail.append(data)\n",
    "    \n",
    "pprint(data_mail)"
   ]
  },
  {
   "cell_type": "markdown",
   "metadata": {},
   "source": [
    "### yandex"
   ]
  },
  {
   "cell_type": "code",
   "execution_count": 8,
   "metadata": {},
   "outputs": [
    {
     "name": "stdout",
     "output_type": "stream",
     "text": [
      "[{'date': '2020-07-07 06:53',\n",
      "  'link': 'https://yandex.ru/news/story/An-2_upal_okolo_nizhegorodskogo_Dzerzhinska--01de88b098c0dfb4ef39017dfe5f16f6?lr=80&lang=ru&stid=4Q4j2X0N42Gnzdps5BY5&persistent_id=104885698&rubric=personal_feed&from=index',\n",
      "  'name': 'Ан-2 упал около нижегородского Дзержинска',\n",
      "  'sourse': 'Интерфакс'},\n",
      " {'date': '2020-07-07 05:07',\n",
      "  'link': 'https://yandex.ru/news/story/Glavkom_VMS_Ukrainy_zayavil_o_gotovnosti_k_boevym_dejstviyam_s_Rossiej--693bb1d6006f9d05a172669bfac44e75?lr=80&lang=ru&stid=QOVGapGAm87CZiUOwNpM&persistent_id=104748765&rubric=personal_feed&from=index',\n",
      "  'name': 'Главком ВМС Украины заявил о готовности к боевым действиям с '\n",
      "          'Россией',\n",
      "  'sourse': 'Газета.Ru'},\n",
      " {'date': '2020-07-07 07:00',\n",
      "  'link': 'https://yandex.ru/news/story/Boris_Korchevnikov_sfotografirovalsya_na_vypiske_iz_roddoma--206fc0bdd502f91531f62529612d9fd1?lr=80&lang=ru&stid=KeLOocAqM_C8c4UytTsy&persistent_id=104745535&rubric=personal_feed&from=index',\n",
      "  'name': 'Борис Корчевников сфотографировался на выписке из роддома',\n",
      "  'sourse': 'CT news'},\n",
      " {'date': '2020-07-07 07:37',\n",
      "  'link': 'https://yandex.ru/news/story/Pore_khochet_vo_vtoroj_raz_provesti_boj_s_KHabibom_Nurmagomedovym--9294365af0bf5c29923d0c402a8579f0?lr=80&lang=ru&stid=Jw2ZjYyjGnQxAMdMoeMq&persistent_id=104892443&rubric=personal_feed&from=index',\n",
      "  'name': 'Порье хочет во второй раз провести бой с Хабибом Нурмагомедовым',\n",
      "  'sourse': 'Metaratings'},\n",
      " {'date': '2020-07-07 07:33',\n",
      "  'link': 'https://yandex.ru/news/story/Petrosyan_podal_v_sud_na_Koklyushkina_za_oskorblenie_zheny--6f5477ce932b251287c1351cde5fc47f?lr=80&lang=ru&stid=ta0_EgWDOOqX2BZsVaOG&persistent_id=104835761&rubric=personal_feed&from=index',\n",
      "  'name': 'Петросян подал в суд на Коклюшкина за оскорбление жены',\n",
      "  'sourse': 'РИА Новости'}]\n"
     ]
    }
   ],
   "source": [
    "response = requests.get('https://yandex.ru/news/',\n",
    "                            headers=header)\n",
    "dom = html.fromstring(response.text)\n",
    "data_ya = []\n",
    "items = dom.xpath(\"//div[@aria-labelledby='personal_feed']//td[@class='stories-set__item']\")\n",
    "\n",
    "for item in items:\n",
    "    data = {}\n",
    "    main_link = 'https://yandex.ru'\n",
    "    \n",
    "    name = item.xpath(\".//a//text()\")[0]\n",
    "    link = main_link + item.xpath(\".//a//@href\")[0]\n",
    "    date = str(datetime.now().date()) + \" \" + item.xpath(\".//div[@class='story__date']//text()\")[0][-5:]  \n",
    "    sourse = item.xpath(\".//div[@class='story__date']//text()\")[0][:-6]\n",
    "    \n",
    "    data['date'] = date\n",
    "    data['sourse'] = sourse\n",
    "    data['name'] = name\n",
    "    data['link'] = link \n",
    "    \n",
    "    data_ya.append(data)\n",
    "    \n",
    "pprint(data_ya)\n",
    "    "
   ]
  },
  {
   "cell_type": "code",
   "execution_count": 6,
   "metadata": {},
   "outputs": [
    {
     "data": {
      "text/plain": [
       "<pymongo.results.InsertManyResult at 0x5e2f768>"
      ]
     },
     "execution_count": 6,
     "metadata": {},
     "output_type": "execute_result"
    }
   ],
   "source": [
    "yandex.insert_many(data_ya)\n",
    "mail.insert_many(data_mail)\n",
    "lenta.insert_many(data_lenta)"
   ]
  },
  {
   "cell_type": "code",
   "execution_count": 14,
   "metadata": {},
   "outputs": [
    {
     "data": {
      "text/plain": [
       "[' 19:52,  6 июля 2020']"
      ]
     },
     "execution_count": 14,
     "metadata": {},
     "output_type": "execute_result"
    }
   ],
   "source": [
    "date"
   ]
  },
  {
   "cell_type": "code",
   "execution_count": 20,
   "metadata": {},
   "outputs": [
    {
     "ename": "ValueError",
     "evalue": "time data ' 19:52  6 июля 2020' does not match format '%Y-%m-%d'",
     "output_type": "error",
     "traceback": [
      "\u001b[1;31m---------------------------------------------------------------------------\u001b[0m",
      "\u001b[1;31mValueError\u001b[0m                                Traceback (most recent call last)",
      "\u001b[1;32m<ipython-input-20-7780675a4ebe>\u001b[0m in \u001b[0;36m<module>\u001b[1;34m\u001b[0m\n\u001b[1;32m----> 1\u001b[1;33m \u001b[0mdatetime\u001b[0m\u001b[1;33m.\u001b[0m\u001b[0mstrptime\u001b[0m\u001b[1;33m(\u001b[0m\u001b[0mdate\u001b[0m\u001b[1;33m[\u001b[0m\u001b[1;36m0\u001b[0m\u001b[1;33m]\u001b[0m\u001b[1;33m.\u001b[0m\u001b[0mreplace\u001b[0m\u001b[1;33m(\u001b[0m\u001b[1;34m','\u001b[0m\u001b[1;33m,\u001b[0m\u001b[1;34m''\u001b[0m\u001b[1;33m)\u001b[0m\u001b[1;33m,\u001b[0m\u001b[1;34m'%Y-%m-%d'\u001b[0m\u001b[1;33m)\u001b[0m\u001b[1;33m\u001b[0m\u001b[1;33m\u001b[0m\u001b[0m\n\u001b[0m",
      "\u001b[1;32mc:\\program files (x86)\\python38-32\\lib\\_strptime.py\u001b[0m in \u001b[0;36m_strptime_datetime\u001b[1;34m(cls, data_string, format)\u001b[0m\n\u001b[0;32m    566\u001b[0m     \"\"\"Return a class cls instance based on the input string and the\n\u001b[0;32m    567\u001b[0m     format string.\"\"\"\n\u001b[1;32m--> 568\u001b[1;33m     \u001b[0mtt\u001b[0m\u001b[1;33m,\u001b[0m \u001b[0mfraction\u001b[0m\u001b[1;33m,\u001b[0m \u001b[0mgmtoff_fraction\u001b[0m \u001b[1;33m=\u001b[0m \u001b[0m_strptime\u001b[0m\u001b[1;33m(\u001b[0m\u001b[0mdata_string\u001b[0m\u001b[1;33m,\u001b[0m \u001b[0mformat\u001b[0m\u001b[1;33m)\u001b[0m\u001b[1;33m\u001b[0m\u001b[1;33m\u001b[0m\u001b[0m\n\u001b[0m\u001b[0;32m    569\u001b[0m     \u001b[0mtzname\u001b[0m\u001b[1;33m,\u001b[0m \u001b[0mgmtoff\u001b[0m \u001b[1;33m=\u001b[0m \u001b[0mtt\u001b[0m\u001b[1;33m[\u001b[0m\u001b[1;33m-\u001b[0m\u001b[1;36m2\u001b[0m\u001b[1;33m:\u001b[0m\u001b[1;33m]\u001b[0m\u001b[1;33m\u001b[0m\u001b[1;33m\u001b[0m\u001b[0m\n\u001b[0;32m    570\u001b[0m     \u001b[0margs\u001b[0m \u001b[1;33m=\u001b[0m \u001b[0mtt\u001b[0m\u001b[1;33m[\u001b[0m\u001b[1;33m:\u001b[0m\u001b[1;36m6\u001b[0m\u001b[1;33m]\u001b[0m \u001b[1;33m+\u001b[0m \u001b[1;33m(\u001b[0m\u001b[0mfraction\u001b[0m\u001b[1;33m,\u001b[0m\u001b[1;33m)\u001b[0m\u001b[1;33m\u001b[0m\u001b[1;33m\u001b[0m\u001b[0m\n",
      "\u001b[1;32mc:\\program files (x86)\\python38-32\\lib\\_strptime.py\u001b[0m in \u001b[0;36m_strptime\u001b[1;34m(data_string, format)\u001b[0m\n\u001b[0;32m    347\u001b[0m     \u001b[0mfound\u001b[0m \u001b[1;33m=\u001b[0m \u001b[0mformat_regex\u001b[0m\u001b[1;33m.\u001b[0m\u001b[0mmatch\u001b[0m\u001b[1;33m(\u001b[0m\u001b[0mdata_string\u001b[0m\u001b[1;33m)\u001b[0m\u001b[1;33m\u001b[0m\u001b[1;33m\u001b[0m\u001b[0m\n\u001b[0;32m    348\u001b[0m     \u001b[1;32mif\u001b[0m \u001b[1;32mnot\u001b[0m \u001b[0mfound\u001b[0m\u001b[1;33m:\u001b[0m\u001b[1;33m\u001b[0m\u001b[1;33m\u001b[0m\u001b[0m\n\u001b[1;32m--> 349\u001b[1;33m         raise ValueError(\"time data %r does not match format %r\" %\n\u001b[0m\u001b[0;32m    350\u001b[0m                          (data_string, format))\n\u001b[0;32m    351\u001b[0m     \u001b[1;32mif\u001b[0m \u001b[0mlen\u001b[0m\u001b[1;33m(\u001b[0m\u001b[0mdata_string\u001b[0m\u001b[1;33m)\u001b[0m \u001b[1;33m!=\u001b[0m \u001b[0mfound\u001b[0m\u001b[1;33m.\u001b[0m\u001b[0mend\u001b[0m\u001b[1;33m(\u001b[0m\u001b[1;33m)\u001b[0m\u001b[1;33m:\u001b[0m\u001b[1;33m\u001b[0m\u001b[1;33m\u001b[0m\u001b[0m\n",
      "\u001b[1;31mValueError\u001b[0m: time data ' 19:52  6 июля 2020' does not match format '%Y-%m-%d'"
     ]
    }
   ],
   "source": [
    "datetime.strptime(date[0].replace(',',''),'%Y-%m-%d')"
   ]
  },
  {
   "cell_type": "code",
   "execution_count": 13,
   "metadata": {},
   "outputs": [
    {
     "data": {
      "text/plain": [
       "' 19:52  6 июля 2020'"
      ]
     },
     "execution_count": 13,
     "metadata": {},
     "output_type": "execute_result"
    }
   ],
   "source": [
    "date[0].replace(',','')"
   ]
  }
 ],
 "metadata": {
  "kernelspec": {
   "display_name": "Python 3",
   "language": "python",
   "name": "python3"
  },
  "language_info": {
   "codemirror_mode": {
    "name": "ipython",
    "version": 3
   },
   "file_extension": ".py",
   "mimetype": "text/x-python",
   "name": "python",
   "nbconvert_exporter": "python",
   "pygments_lexer": "ipython3",
   "version": "3.8.2"
  }
 },
 "nbformat": 4,
 "nbformat_minor": 4
}

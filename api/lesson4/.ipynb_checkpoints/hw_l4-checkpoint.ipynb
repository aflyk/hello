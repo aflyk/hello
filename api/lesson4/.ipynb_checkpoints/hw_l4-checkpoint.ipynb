{
 "cells": [
  {
   "cell_type": "markdown",
   "metadata": {},
   "source": [
    "1)Написать приложение, которое собирает основные новости с сайтов news.mail.ru, lenta.ru, yandex.news\n",
    "Для парсинга использовать xpath. Структура данных должна содержать:\n",
    "название источника,\n",
    "наименование новости,\n",
    "ссылку на новость,\n",
    "дата публикации\n",
    "\n",
    "2)Сложить все новости в БД"
   ]
  },
  {
   "cell_type": "code",
   "execution_count": 134,
   "metadata": {},
   "outputs": [],
   "source": [
    "import requests\n",
    "from lxml import html\n",
    "from pymongo import MongoClient\n",
    "from pprint import pprint\n",
    "from datetime import datetime, date"
   ]
  },
  {
   "cell_type": "code",
   "execution_count": 135,
   "metadata": {},
   "outputs": [],
   "source": [
    "#задаем хедер для видимости использования браузера\n",
    "header = {'User_Agent':'Mozilla/5.0 (Windows NT 10.0; Win64; x64) \\\n",
    "            AppleWebKit/537.36 (KHTML, like Gecko) Chrome/83.0.4103.116 Safari/537.36'}\n",
    "\n",
    "#запускаем монго клиент с стандарными настройками\n",
    "client = MongoClient('localhost', 27017)\n",
    "#создаем новую бд \n",
    "db = client['News']\n",
    "lenta = db.lenta\n",
    "yandex = db.yandex\n",
    "mail = db.mail\n"
   ]
  },
  {
   "cell_type": "markdown",
   "metadata": {},
   "source": [
    "### lenta.ru"
   ]
  },
  {
   "cell_type": "code",
   "execution_count": 136,
   "metadata": {},
   "outputs": [
    {
     "name": "stdout",
     "output_type": "stream",
     "text": [
      "[{'date': ' 14:44,  6 июля 2020',\n",
      "  'link': 'https://lenta.ru/news/2020/07/06/nezhy_papa/',\n",
      "  'name': 'Командующий ВМС Украины пообещал «вернуть» Севастополь',\n",
      "  'source': 'https://lenta.ru'},\n",
      " {'date': ' 15:19,  6 июля 2020',\n",
      "  'link': 'https://lenta.ru/news/2020/07/06/venediktov_peskov/',\n",
      "  'name': 'Венедиктов рассказал о жалобах Пескова после заражения '\n",
      "          'коронавирусом',\n",
      "  'source': 'https://lenta.ru'},\n",
      " {'date': ' 15:18,  6 июля 2020',\n",
      "  'link': 'https://lenta.ru/news/2020/07/06/bridemotherinlaw/',\n",
      "  'name': 'Свекровь захотела надеть платье невесты на свою свадьбу и была '\n",
      "          'пристыжена',\n",
      "  'source': 'https://lenta.ru'},\n",
      " {'date': ' 15:13,  6 июля 2020',\n",
      "  'link': 'https://lenta.ru/news/2020/07/06/priority/',\n",
      "  'name': 'Назван приоритет Путина',\n",
      "  'source': 'https://lenta.ru'},\n",
      " {'date': ' 15:06,  6 июля 2020',\n",
      "  'link': 'https://lenta.ru/news/2020/07/06/podsud/',\n",
      "  'name': 'Россиянин пойдет под суд за убийство 92-летнего ветерана',\n",
      "  'source': 'https://lenta.ru'},\n",
      " {'date': ' 15:02,  6 июля 2020',\n",
      "  'link': 'https://lenta.ru/news/2020/07/06/gribochki/',\n",
      "  'name': 'Россиянам дали советы по сбору грибов',\n",
      "  'source': 'https://lenta.ru'},\n",
      " {'date': ' 15:02,  6 июля 2020',\n",
      "  'link': 'https://lenta.ru/news/2020/07/06/gaz/',\n",
      "  'name': '«Газпром» приостановил поставку газа через Польшу',\n",
      "  'source': 'https://lenta.ru'},\n",
      " {'date': ' 15:00,  6 июля 2020',\n",
      "  'link': 'https://lenta.ru/news/2020/07/06/whale_shark/',\n",
      "  'name': 'Акула посеяла панику на общественном пляже и попала на видео',\n",
      "  'source': 'https://lenta.ru'},\n",
      " {'date': ' 14:54,  6 июля 2020',\n",
      "  'link': 'https://lenta.ru/news/2020/07/06/kalashnikov/',\n",
      "  'name': 'Автоматический пистолет Калашникова показали на видео',\n",
      "  'source': 'https://lenta.ru'},\n",
      " {'date': ' 14:45,  6 июля 2020',\n",
      "  'link': 'https://lenta.ru/news/2020/07/06/migrants/',\n",
      "  'name': 'В России нашли массовое захоронение мигрантов в лесу',\n",
      "  'source': 'https://lenta.ru'}]\n"
     ]
    }
   ],
   "source": [
    "response = requests.get('https://lenta.ru/',\n",
    "                            headers=header)\n",
    "dom = html.fromstring(response.text)\n",
    "data_lenta = []\n",
    "items = dom.xpath(\"//section[contains(@class, 'top7')]//div[contains(@class, 'item')]\")\n",
    "\n",
    "for item in items:\n",
    "    data = {}\n",
    "    source = 'https://lenta.ru'\n",
    "    name = item.xpath(\".//h2//a//text | .//a//text()\")\n",
    "    date = item.xpath(\".//h2//a//time//@datetime | .//a//time//@datetime\")\n",
    "    \n",
    "    link = item.xpath(\".//h2//a//@href | .//a//@href\")\n",
    "    if link[0][0] == '/':\n",
    "        link = source + link[0]\n",
    "    else:\n",
    "        link = link[0]\n",
    "        \n",
    "    data['name'] = name[1].replace('\\xa0', ' ')\n",
    "    data['source'] = source\n",
    "    data['link'] = link\n",
    "    data['date'] = date[0]\n",
    "    data_lenta.append(data)\n",
    "    \n",
    "pprint(data_lenta)"
   ]
  },
  {
   "cell_type": "markdown",
   "metadata": {},
   "source": [
    "### mail.ru"
   ]
  },
  {
   "cell_type": "code",
   "execution_count": 137,
   "metadata": {},
   "outputs": [
    {
     "name": "stdout",
     "output_type": "stream",
     "text": [
      "[{'date': '2020-07-06 07:03',\n",
      "  'link': 'https://news.mail.ru/politics/42457414/',\n",
      "  'name': 'Великобритания может ввести персональные санкции против граждан '\n",
      "          'России',\n",
      "  'sourse': 'http://www.kommersant.ru'},\n",
      " {'date': '2020-07-06 05:36',\n",
      "  'link': 'https://news.mail.ru/politics/42456499/',\n",
      "  'name': 'ЦБ поддержал инициативу предоставлять банковские услуги по '\n",
      "          'водительским правам',\n",
      "  'sourse': 'http://iz.ru/'},\n",
      " {'date': '2020-07-06 03:37',\n",
      "  'link': 'https://news.mail.ru/politics/42456429/',\n",
      "  'name': 'Украинский флот готовится к полномасштабной конфронтации с Россией',\n",
      "  'sourse': 'http://www.ria.ru'},\n",
      " {'date': '2020-07-05 20:27',\n",
      "  'link': 'https://news.mail.ru/politics/42455215/',\n",
      "  'name': 'Один из обвиняемых в убийстве Флойда освобожден под залог',\n",
      "  'sourse': 'http://iz.ru/'}]\n"
     ]
    }
   ],
   "source": [
    "response = requests.get('https://news.mail.ru/',\n",
    "                            headers=header)\n",
    "dom = html.fromstring(response.text)\n",
    "data_mail = []\n",
    "items = dom.xpath(\"//div[@class='cols__inner']\")\n",
    "\n",
    "for i in items:\n",
    "    if i.xpath(\".//span[text()='Политика']\"):\n",
    "        break\n",
    "        \n",
    "items = i.xpath(\".//li[@class='list__item'] | .//a[@class='newsitem__title link-holder']\")\n",
    "\n",
    "for item in items:\n",
    "    data = {}\n",
    "    name = item.xpath(\".//span[@class='link__text']//text() | .//span[@class='newsitem__title-inner']//text()\")\n",
    "    link = item.xpath(\".//a//@href | .//@href\")\n",
    "    \n",
    "    m_response = requests.get(link[0], headers=header)\n",
    "    m_dom = html.fromstring(m_response.text)\n",
    "    \n",
    "    date = m_dom.xpath(\"//span[@class='note__text breadcrumbs__text js-ago']//@datetime\")\n",
    "    date = date[0].replace('T', ' ')[:-9]\n",
    "    \n",
    "    sourse = m_dom.xpath(\"//a[@class='link color_gray breadcrumbs__link']//@href\")[0]\n",
    "    \n",
    "    data['date'] = date\n",
    "    data['sourse'] = sourse\n",
    "    data['name'] = name[0]\n",
    "    data['link'] = link[0]\n",
    "    \n",
    "    data_mail.append(data)\n",
    "    \n",
    "pprint(data_mail)"
   ]
  },
  {
   "cell_type": "markdown",
   "metadata": {},
   "source": [
    "### yandex"
   ]
  },
  {
   "cell_type": "code",
   "execution_count": 138,
   "metadata": {},
   "outputs": [
    {
     "name": "stdout",
     "output_type": "stream",
     "text": [
      "[{'date': '23:03 2020-07-06',\n",
      "  'link': 'https://yandex.ru/news/story/ESPCH_kommuniciroval_zhalobu_na_rassledovanie_ubijstva_Nemcova--a221ab061b113aa177cb6375870977e8?lr=80&lang=ru&stid=_J7m-BIQJIt81ZeHiSon&persistent_id=104863914&rubric=personal_feed&from=index',\n",
      "  'name': 'ЕСПЧ коммуницировал жалобу на расследование убийства Немцова',\n",
      "  'sourse': 'Интерфакс'},\n",
      " {'date': '23:12 2020-07-06',\n",
      "  'link': 'https://yandex.ru/news/story/Kujvashev_prodlil_koronavirusnye_ogranicheniya_v_Sverdlovskoj_oblasti--be98caa76e45f4db10a56f38750bc7f2?lr=80&lang=ru&stid=-3Z5SBziONcfKr880zUl&persistent_id=104868828&rubric=personal_feed&from=index',\n",
      "  'name': 'Куйвашев продлил коронавирусные ограничения в Свердловской области',\n",
      "  'sourse': 'Екатеринбург Онлайн'},\n",
      " {'date': '23:05 2020-07-06',\n",
      "  'link': 'https://yandex.ru/news/story/Matchi_Orenburga_s_CSKA_i_Rostovom_nachnutsya_pozzhe--3091951b9cca106cff34a4c51fddc2ab?lr=80&lang=ru&stid=j8a-OFGh6J7oFxjuPcwM&persistent_id=104873582&rubric=personal_feed&from=index',\n",
      "  'name': 'Матчи «Оренбурга» с ЦСКА и «Ростовом» начнутся позже',\n",
      "  'sourse': 'РИА Новости'},\n",
      " {'date': '23:10 2020-07-06',\n",
      "  'link': 'https://yandex.ru/news/story/Iz-za_obstrela_v_Gorlovke_bez_vody_ostalis_bolee_trekh_tysyach_chelovek--943ee79458690736cf545bc683da4a7d?lr=80&lang=ru&stid=JXcFRmDzCQFi4tOUp8nu&persistent_id=104841779&rubric=personal_feed&from=index',\n",
      "  'name': 'Из-за обстрела в Горловке без воды остались более трех тысяч '\n",
      "          'человек',\n",
      "  'sourse': 'РИА Новости'},\n",
      " {'date': '20:20 2020-07-06',\n",
      "  'link': 'https://yandex.ru/news/story/V_socsetyakh_poyavilos_foto_pevicy_MakSim_posle_dolgoj_reabilitacii--c58811b770d6cde5a8470a60c62300aa?lr=80&lang=ru&stid=rcc6QSZumuFfOcuIZAc7&persistent_id=104612196&rubric=personal_feed&from=index',\n",
      "  'name': 'В соцсетях появилось фото певицы МакSим после долгой реабилитации',\n",
      "  'sourse': 'Общественная служба новостей'}]\n"
     ]
    }
   ],
   "source": [
    "response = requests.get('https://yandex.ru/news/',\n",
    "                            headers=header)\n",
    "dom = html.fromstring(response.text)\n",
    "data_ya = []\n",
    "items = dom.xpath(\"//div[@aria-labelledby='personal_feed']//td[@class='stories-set__item']\")\n",
    "\n",
    "for item in items:\n",
    "    data = {}\n",
    "    main_link = 'https://yandex.ru'\n",
    "    \n",
    "    name = item.xpath(\".//a//text()\")[0]\n",
    "    link = main_link + item.xpath(\".//a//@href\")[0]\n",
    "    date = item.xpath(\".//div[@class='story__date']//text()\")[0][-5:] + \" \" + str(datetime.now().date())\n",
    "    sourse = item.xpath(\".//div[@class='story__date']//text()\")[0][:-6]\n",
    "    \n",
    "    data['date'] = date\n",
    "    data['sourse'] = sourse\n",
    "    data['name'] = name\n",
    "    data['link'] = link \n",
    "    \n",
    "    data_ya.append(data)\n",
    "    \n",
    "pprint(data_ya)\n",
    "    "
   ]
  },
  {
   "cell_type": "code",
   "execution_count": 139,
   "metadata": {},
   "outputs": [
    {
     "data": {
      "text/plain": [
       "<pymongo.results.InsertManyResult at 0x6335168>"
      ]
     },
     "execution_count": 139,
     "metadata": {},
     "output_type": "execute_result"
    }
   ],
   "source": [
    "yandex.insert_many(data_ya)\n",
    "mail.insert_many(data_mail)\n",
    "lenta.insert_many(data_lenta)"
   ]
  },
  {
   "cell_type": "code",
   "execution_count": 115,
   "metadata": {},
   "outputs": [],
   "source": []
  },
  {
   "cell_type": "code",
   "execution_count": 122,
   "metadata": {},
   "outputs": [],
   "source": []
  },
  {
   "cell_type": "code",
   "execution_count": 125,
   "metadata": {},
   "outputs": [
    {
     "data": {
      "text/plain": [
       "'2020-07-06'"
      ]
     },
     "execution_count": 125,
     "metadata": {},
     "output_type": "execute_result"
    }
   ],
   "source": []
  }
 ],
 "metadata": {
  "kernelspec": {
   "display_name": "Python 3",
   "language": "python",
   "name": "python3"
  },
  "language_info": {
   "codemirror_mode": {
    "name": "ipython",
    "version": 3
   },
   "file_extension": ".py",
   "mimetype": "text/x-python",
   "name": "python",
   "nbconvert_exporter": "python",
   "pygments_lexer": "ipython3",
   "version": "3.8.2"
  }
 },
 "nbformat": 4,
 "nbformat_minor": 4
}

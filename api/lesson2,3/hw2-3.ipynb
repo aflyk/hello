{
 "cells": [
  {
   "cell_type": "markdown",
   "metadata": {},
   "source": [
    "### 1) Необходимо собрать информацию о вакансиях на вводимую должность (используем input или через аргументы) с сайта superjob.ru и hh.ru. Приложение должно анализировать несколько страниц сайта(также вводим через input или аргументы). Получившийся список должен содержать в себе минимум:\n",
    "\n",
    "    *Наименование вакансии\n",
    "    *Предлагаемую зарплату (отдельно мин. и отдельно макс. и отдельно валюта)\n",
    "    *Ссылку на саму вакансию        \n",
    "    *Сайт откуда собрана вакансия\n",
    "По своему желанию можно добавить еще работодателя и расположение. Данная структура должна быть одинаковая для вакансий с обоих сайтов. Общий результат можно вывести с помощью dataFrame через pandas."
   ]
  },
  {
   "cell_type": "code",
   "execution_count": 2,
   "metadata": {},
   "outputs": [],
   "source": [
    "from bs4 import BeautifulSoup as bs\n",
    "import requests\n",
    "#import pandas as pd\n",
    "from pymongo import MongoClient"
   ]
  },
  {
   "cell_type": "code",
   "execution_count": 3,
   "metadata": {},
   "outputs": [],
   "source": [
    "# функция, обработки зарплат\n",
    "def salary(s):\n",
    "    s = s.split()\n",
    "    currency = s[-1]\n",
    "    s = s[:-1]\n",
    "    if s[0].isdigit():\n",
    "        s = (''.join(s)).split('-')\n",
    "        mins = int(s[0])\n",
    "        maxs = int(s[1])\n",
    "    elif s[0] == 'от':\n",
    "        mins = int(''.join(s[1:]))\n",
    "        maxs = None\n",
    "    else:\n",
    "        maxs = int(''.join(s[1:]))\n",
    "        mins = None\n",
    "    return [mins, maxs, currency]"
   ]
  },
  {
   "cell_type": "code",
   "execution_count": 4,
   "metadata": {},
   "outputs": [],
   "source": [
    "# поиск работаки\n",
    "def lfj(soup, body, elem, name, salar, site):\n",
    "    serials_block = soup.find('div', body)\n",
    "    serials_list = serials_block.find_all('div',{'class':elem})\n",
    "    hh = []\n",
    "    \n",
    "    for serial in serials_list:\n",
    "        serial_data = {}\n",
    "        serial_name = serial.find('a',{'class':name}).text\n",
    "        \n",
    "        if site == 'hh.ru':\n",
    "            serial_link = serial.find('a',{'class':name})['href']\n",
    "        else:\n",
    "            serial_link = main_link_sj + serial.find('a',{'class':name})['href']\n",
    "        \n",
    "        serial_salary = serial.find('span', salar)\n",
    "        if serial_salary and 'По договорённости' not in serial_salary.text:\n",
    "            serial_salary = salary(str(serial_salary.text))\n",
    "        else:\n",
    "            serial_salary = [None, None, None]\n",
    "        \n",
    "        serial_data['vacancy'] = serial_name\n",
    "        serial_data['link'] = serial_link\n",
    "        serial_data['min_salary'] = serial_salary[0]\n",
    "        serial_data['max_salary'] = serial_salary[1]\n",
    "        serial_data['currency'] = serial_salary[2]\n",
    "        serial_data['site'] = site\n",
    "        hh.append(serial_data)\n",
    "    return hh\n",
    "\n"
   ]
  },
  {
   "cell_type": "code",
   "execution_count": 7,
   "metadata": {},
   "outputs": [
    {
     "name": "stdout",
     "output_type": "stream",
     "text": [
      "Введите интересующую Вас вакансию: \n",
      "Data scientist\n"
     ]
    }
   ],
   "source": [
    "vacancy = input('Введите интересующую Вас вакансию: \\n')\n",
    "\n",
    "\n",
    "main_link_hh = 'https://yuzhno-sakhalinsk.hh.ru'\n",
    "main_link_sj = 'https://russia.superjob.ru'\n",
    "\n",
    "header = {'User-Agent':'Mozilla/5.0 (Windows NT 10.0; Win64; x64) \\\n",
    "          AppleWebKit/537.36 (KHTML, like Gecko) Chrome/83.0.4103.106 \\\n",
    "          Safari/537.36', 'Accept':'*/*'}\n",
    "\n",
    "params_hh = {'L_save_area':'true',\n",
    "             'clusters':'true',\n",
    "             'enable_snippets':'true',\n",
    "             'text':vacancy,\n",
    "             'showClusters':'true'\n",
    "             }\n",
    "\n",
    "\n",
    "responce = requests.get(main_link_hh+'/search/vacancy', headers=header, params=params_hh).text\n",
    "responce_sj = requests.get(main_link_sj+'/vakansii/'+('-'.join(vacancy.split())).lower()+'.html', headers=header).text\n",
    "soup = bs(responce, 'lxml')\n",
    "soup_sj = bs(responce_sj, 'lxml')"
   ]
  },
  {
   "cell_type": "code",
   "execution_count": 8,
   "metadata": {},
   "outputs": [],
   "source": [
    "hh = []\n",
    "hh.extend(lfj(soup, \n",
    "              {'class':'vacancy-serp'},\n",
    "              'vacancy-serp-item',\n",
    "              'bloko-link HH-LinkModifier',\n",
    "              {'class':'bloko-section-header-3','data-qa':'vacancy-serp__vacancy-compensation'},\n",
    "              'hh.ru'\n",
    "             ))\n",
    "\n",
    "while True:\n",
    "    next_page = soup.find('a',{'class':'bloko-button HH-Pager-Controls-Next HH-Pager-Control'})\n",
    "    if next_page:\n",
    "        responce = requests.get(main_link_hh+next_page['href'], headers=header).text\n",
    "        soup = bs(responce, 'lxml')\n",
    "        hh.extend(lfj(soup, \n",
    "                      {'class':'vacancy-serp'},\n",
    "                      'vacancy-serp-item',\n",
    "                      'bloko-link HH-LinkModifier',\n",
    "                      {'class':'bloko-section-header-3','data-qa':'vacancy-serp__vacancy-compensation'},\n",
    "                      'hh.ru'\n",
    "                        ))\n",
    "    else:\n",
    "        break\n",
    "       \n",
    "        "
   ]
  },
  {
   "cell_type": "code",
   "execution_count": 9,
   "metadata": {},
   "outputs": [],
   "source": [
    "sj = []\n",
    "sj.extend(lfj(soup_sj,\n",
    "             {'style':'display:block'},\n",
    "              'iJCa5 f-test-vacancy-item _1fma_ _1JhPh _2gFpt _1znz6 _2nteL',\n",
    "              'icMQ_',\n",
    "              {'class':'_1OuF_'},\n",
    "              'superjob.ru'\n",
    "             ))\n",
    "\n",
    "while True:\n",
    "    next_page = soup.find('a',{'class':'_3IDf-'})\n",
    "    if next_page:\n",
    "        responce_sj = requests.get(main_link_js+next_page['href'], headers=header).text\n",
    "        soup_sj = bs(responce, 'lxml')\n",
    "        hh.extend(lf_hh(soup))\n",
    "    else:\n",
    "        break"
   ]
  },
  {
   "cell_type": "markdown",
   "metadata": {},
   "source": [
    "### 1) Развернуть у себя на компьютере/виртуальной машине/хостинге MongoDB и реализовать функцию, записывающую собранные вакансии в созданную БД (без датафрейма)\n",
    "2) Написать функцию, которая производит поиск и выводит на экран вакансии с заработной платой больше введенной суммы. Поиск по двум полям (мин и макс зарплату)\n",
    "3) Написать функцию, которая будет добавлять в вашу базу данных только новые вакансии с сайта"
   ]
  },
  {
   "cell_type": "code",
   "execution_count": 82,
   "metadata": {},
   "outputs": [],
   "source": [
    "def input_db(data, collection):\n",
    "    for i in data:\n",
    "        if len(list( collection.find( { 'link': { '$in': [i['link']] } } )))==0:\n",
    "            collection.insert_one(i)\n",
    "\n",
    "\n",
    "def checker(salary, collection):\n",
    "    return collection.find({'$or': [{'min_salary': {'$gt': salary}}, {'max_salary': {'$gt':salary}}]},\n",
    "                           {'vacancy':1, 'min_salary':1, 'max_salary':1, '_id':0})"
   ]
  },
  {
   "cell_type": "code",
   "execution_count": 16,
   "metadata": {},
   "outputs": [
    {
     "name": "stdout",
     "output_type": "stream",
     "text": [
      "Введите интересующую зарплату100000\n"
     ]
    }
   ],
   "source": [
    "client = MongoClient('localhost', 27017)\n",
    "db = client['vacancy']\n",
    "hh_col = db.hh\n",
    "sj_col = db.sj\n",
    "salary = int(input('Введите интересующую зарплату'))\n",
    "\n",
    "    "
   ]
  },
  {
   "cell_type": "code",
   "execution_count": 83,
   "metadata": {},
   "outputs": [],
   "source": [
    "# заполнение бд данными\n",
    "input_db(sj, sj_col)\n",
    "input_db(hh, hh_col)\n"
   ]
  },
  {
   "cell_type": "code",
   "execution_count": 72,
   "metadata": {},
   "outputs": [
    {
     "name": "stdout",
     "output_type": "stream",
     "text": [
      "{'vacancy': 'Программист / Разработчик 1С', 'min_salary': 130000, 'max_salary': None}\n",
      "{'vacancy': 'Python Data Scientist', 'min_salary': 150000, 'max_salary': None}\n",
      "{'vacancy': 'Data Scientist', 'min_salary': 120000, 'max_salary': 180000}\n",
      "{'vacancy': 'Data Scientist', 'min_salary': 130000, 'max_salary': None}\n",
      "{'vacancy': 'Data Scientist', 'min_salary': 110000, 'max_salary': None}\n",
      "{'vacancy': 'Senior Tech-Lead, Node.js Developer, Startup', 'min_salary': 275000, 'max_salary': None}\n",
      "{'vacancy': 'Бизнес-аналитик', 'min_salary': 120000, 'max_salary': 180000}\n",
      "{'vacancy': 'Ведущий Scala разработчик (Java/C++/C#)', 'min_salary': None, 'max_salary': 200000}\n",
      "{'vacancy': 'Диджитал-аналитик (Digital Analyst)', 'min_salary': 75000, 'max_salary': 150000}\n",
      "{'vacancy': 'Ведущий инженер по тестированию', 'min_salary': None, 'max_salary': 250000}\n",
      "{'vacancy': 'Senior Data Engineer / Ведущий инженер данных', 'min_salary': None, 'max_salary': 290000}\n",
      "{'vacancy': 'Технический директор', 'min_salary': 400000, 'max_salary': 600000}\n",
      "{'vacancy': 'Ведущий Data Scientist (NLP)', 'min_salary': 130000, 'max_salary': 200000}\n",
      "{'vacancy': 'Директор по инвестициям (Family office)', 'min_salary': 500000, 'max_salary': 1000000}\n",
      "{'vacancy': 'Senior Python Systems Engineer', 'min_salary': 200000, 'max_salary': 280000}\n",
      "{'vacancy': 'Аналитик данных (data analyst)/data scientist (data mining)', 'min_salary': 150000, 'max_salary': None}\n",
      "{'vacancy': 'Data Scientist', 'min_salary': 120000, 'max_salary': 150000}\n",
      "{'vacancy': 'Data Scientist', 'min_salary': None, 'max_salary': 160000}\n",
      "{'vacancy': 'Data Scientist (NLP)', 'min_salary': 120000, 'max_salary': 150000}\n",
      "{'vacancy': 'Senior ML-инженер Speech-to-Text (распознавание речи)', 'min_salary': 1000000, 'max_salary': None}\n",
      "{'vacancy': 'Machine Learning Engineer / Data Scientist (DS Team)', 'min_salary': 180000, 'max_salary': None}\n",
      "{'vacancy': 'Head of I.T. recruitment practice', 'min_salary': 50000, 'max_salary': 500000}\n"
     ]
    }
   ],
   "source": [
    "for i in checker(salary, sj_col):\n",
    "    print (i)\n",
    "    \n",
    "for i in checker(salary, hh_col):\n",
    "    print(i)"
   ]
  },
  {
   "cell_type": "code",
   "execution_count": 70,
   "metadata": {},
   "outputs": [
    {
     "data": {
      "text/plain": [
       "<pymongo.results.DeleteResult at 0xced988>"
      ]
     },
     "execution_count": 70,
     "metadata": {},
     "output_type": "execute_result"
    }
   ],
   "source": [
    "hh_col.delete_many({})\n",
    "sj_col.delete_many({})\n"
   ]
  },
  {
   "cell_type": "code",
   "execution_count": 79,
   "metadata": {},
   "outputs": [
    {
     "data": {
      "text/plain": [
       "0"
      ]
     },
     "execution_count": 79,
     "metadata": {},
     "output_type": "execute_result"
    }
   ],
   "source": []
  }
 ],
 "metadata": {
  "kernelspec": {
   "display_name": "Python 3",
   "language": "python",
   "name": "python3"
  },
  "language_info": {
   "codemirror_mode": {
    "name": "ipython",
    "version": 3
   },
   "file_extension": ".py",
   "mimetype": "text/x-python",
   "name": "python",
   "nbconvert_exporter": "python",
   "pygments_lexer": "ipython3",
   "version": "3.8.2"
  }
 },
 "nbformat": 4,
 "nbformat_minor": 4
}

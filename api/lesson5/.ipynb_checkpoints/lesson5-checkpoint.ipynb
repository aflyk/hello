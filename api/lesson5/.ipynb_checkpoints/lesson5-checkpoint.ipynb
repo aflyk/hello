{
 "cells": [
  {
   "cell_type": "markdown",
   "metadata": {},
   "source": [
    "1) Написать программу, которая собирает входящие письма из своего или тестового почтового ящика и сложить данные о письмах в базу данных (от кого, дата отправки, тема письма, текст письма полный)\n",
    "Логин тестового ящика: study.ai_172@mail.ru\n",
    "Пароль тестового ящика: NextPassword172\n"
   ]
  },
  {
   "cell_type": "code",
   "execution_count": 220,
   "metadata": {},
   "outputs": [],
   "source": [
    "from selenium import webdriver\n",
    "from selenium.webdriver.common.action_chains import ActionChains\n",
    "from selenium.webdriver.chrome.options import Options\n",
    "from selenium.webdriver.common.keys import Keys\n",
    "from pymongo import MongoClient\n",
    "from pprint import pprint\n",
    "from selenium.webdriver.support.ui import WebDriverWait\n",
    "from selenium.webdriver.support import expected_conditions as EC\n",
    "from selenium.webdriver.common.by import By\n",
    "import time\n"
   ]
  },
  {
   "cell_type": "code",
   "execution_count": 170,
   "metadata": {},
   "outputs": [],
   "source": [
    "email = 'study.ai_172@mail.ru' \n",
    "password = 'NextPassword172'\n",
    "client = MongoClient('localhost', 27017)\n",
    "db = client['Email']\n",
    "em = db.mail"
   ]
  },
  {
   "cell_type": "code",
   "execution_count": 155,
   "metadata": {},
   "outputs": [],
   "source": [
    "driver = webdriver.Chrome('./chromedriver.exe')\n",
    "driver.get('https://mail.ru/')\n",
    "\n",
    "\n",
    "elem = driver.find_element_by_id('mailbox:login')\n",
    "elem.send_keys('study.ai_172@mail.ru')\n",
    "elem.send_keys(Keys.ENTER)\n",
    "time.sleep(1)\n",
    "elem = driver.find_element_by_id('mailbox:password')\n",
    "elem.send_keys('NextPassword172')\n",
    "elem.send_keys(Keys.ENTER)\n",
    "\n",
    "check = None\n",
    "time.sleep(9)\n",
    "link_set = set()\n",
    "\n",
    "while True:\n",
    "    link_elems = driver.find_elements_by_class_name('js-tooltip-direction_letter-bottom')\n",
    "    link_set.update([i.get_attribute('href') for i in link_elems])\n",
    "    if check == link_elems[-1]:\n",
    "        break\n",
    "    check = link_elems[-1]\n",
    "    scroll = ActionChains(driver)\n",
    "    scroll.move_to_element(link_elems[-1]).perform()   "
   ]
  },
  {
   "cell_type": "code",
   "execution_count": 165,
   "metadata": {},
   "outputs": [
    {
     "name": "stdout",
     "output_type": "stream",
     "text": [
      "https://e.mail.ru/inbox/0:15906549170819032600:0/?back=1&afterReload=1\n",
      "https://e.mail.ru/inbox/0:15771771180227032076:0/?back=1&afterReload=1\n",
      "https://e.mail.ru/inbox/0:15942265081794013073:0/?back=1&afterReload=1\n",
      "https://e.mail.ru/inbox/0:15789880851211575329:0/?back=1&afterReload=1\n",
      "https://e.mail.ru/inbox/0:15797841541165191171:0/?back=1&afterReload=1\n",
      "https://e.mail.ru/inbox/0:15828916150606705517:0/?back=1&afterReload=1\n",
      "https://e.mail.ru/inbox/0:15785553741660642900:0/?back=1&afterReload=1\n",
      "https://e.mail.ru/inbox/0:15924757500940815903:0/?back=1&afterReload=1\n",
      "https://e.mail.ru/inbox/0:15762528060876390517:0/?back=1&afterReload=1\n",
      "https://e.mail.ru/inbox/0:15872116821506842053:0/?back=1&afterReload=1\n",
      "https://e.mail.ru/inbox/0:15782260511508591017:0/?back=1&afterReload=1\n",
      "https://e.mail.ru/inbox/0:15874575230552080074:0/?back=1&afterReload=1\n",
      "https://e.mail.ru/inbox/0:15774358850012898224:0/?back=1&afterReload=1\n",
      "https://e.mail.ru/inbox/0:15760665541174078767:0/?back=1&afterReload=1\n",
      "https://e.mail.ru/inbox/0:15759080900814993571:0/?back=1&afterReload=1\n",
      "https://e.mail.ru/inbox/0:15783837341667290835:0/?back=1&afterReload=1\n",
      "https://e.mail.ru/inbox/0:15798541080121438551:0/?back=1&afterReload=1\n",
      "https://e.mail.ru/inbox/0:15777816901317063243:0/?back=1&afterReload=1\n",
      "https://e.mail.ru/inbox/0:15773631052046336669:0/?back=1&afterReload=1\n",
      "https://e.mail.ru/inbox/0:15758940391669942037:0/?back=1&afterReload=1\n",
      "https://e.mail.ru/inbox/0:15755683170182261996:0/?back=1&afterReload=1\n",
      "https://e.mail.ru/inbox/0:15786414771582218452:0/?back=1&afterReload=1\n",
      "https://e.mail.ru/inbox/0:15852114771256146977:0/?back=1&afterReload=1\n",
      "https://e.mail.ru/inbox/0:15767397591574855789:0/?back=1&afterReload=1\n",
      "https://e.mail.ru/inbox/0:15773418291310761623:0/?back=1&afterReload=1\n",
      "https://e.mail.ru/inbox/0:15759936070748154198:0/?back=1&afterReload=1\n",
      "https://e.mail.ru/inbox/0:15840054362033788390:0/?back=1&afterReload=1\n",
      "https://e.mail.ru/inbox/0:15857460241077881515:0/?back=1&afterReload=1\n",
      "https://e.mail.ru/inbox/0:15802846881283734922:0/?back=1&afterReload=1\n",
      "https://e.mail.ru/inbox/0:15761534410771764251:0/?back=1&afterReload=1\n",
      "https://e.mail.ru/inbox/0:15797654971774513303:0/?back=1&afterReload=1\n",
      "https://e.mail.ru/inbox/0:15838283791910422269:0/?back=1&afterReload=1\n",
      "https://e.mail.ru/inbox/0:15791598201469897520:0/?back=1&afterReload=1\n",
      "https://e.mail.ru/inbox/0:15893590971129054161:0/?back=1&afterReload=1\n",
      "https://e.mail.ru/inbox/0:15775225511084404136:0/?back=1&afterReload=1\n",
      "https://e.mail.ru/inbox/0:15776911160021566050:0/?back=1&afterReload=1\n",
      "https://e.mail.ru/inbox/0:15754842640013146409:0/?back=1&afterReload=1\n",
      "https://e.mail.ru/inbox/0:15754842641239947339:0/?back=1&afterReload=1\n",
      "https://e.mail.ru/inbox/0:15869385430608302526:0/?back=1&afterReload=1\n",
      "https://e.mail.ru/inbox/0:15772596280117763904:0/?back=1&afterReload=1\n",
      "https://e.mail.ru/inbox/0:15862496171114681301:0/?back=1&afterReload=1\n",
      "https://e.mail.ru/inbox/0:15914305022013028151:0/?back=1&afterReload=1\n",
      "https://e.mail.ru/inbox/0:15912656230205740995:0/?back=1&afterReload=1\n",
      "https://e.mail.ru/inbox/0:15768229981574013380:0/?back=1&afterReload=1\n",
      "https://e.mail.ru/inbox/0:15776105801613315716:0/?back=1&afterReload=1\n",
      "https://e.mail.ru/inbox/0:15756479970287423666:0/?back=1&afterReload=1\n",
      "https://e.mail.ru/inbox/0:15924757501357048460:0/?back=1&afterReload=1\n",
      "https://e.mail.ru/inbox/0:15904810281518861807:0/?back=1&afterReload=1\n",
      "https://e.mail.ru/inbox/0:15789018440539404246:0/?back=1&afterReload=1\n",
      "https://e.mail.ru/inbox/0:15820148900290855038:0/?back=1&afterReload=1\n",
      "https://e.mail.ru/inbox/0:15784683121610366097:0/?back=1&afterReload=1\n",
      "https://e.mail.ru/inbox/0:15755489530943198448:0/?back=1&afterReload=1\n",
      "https://e.mail.ru/inbox/0:15918779191039881509:0/?back=1&afterReload=1\n",
      "https://e.mail.ru/inbox/0:15791636881495293510:0/?back=1&afterReload=1\n",
      "https://e.mail.ru/inbox/0:15765984361071829712:0/?back=1&afterReload=1\n",
      "https://e.mail.ru/inbox/0:15761705030178694629:0/?back=1&afterReload=1\n",
      "https://e.mail.ru/inbox/0:15942250200304782174:0/?back=1&afterReload=1\n",
      "https://e.mail.ru/inbox/0:15795080431688589093:0/?back=1&afterReload=1\n",
      "https://e.mail.ru/inbox/0:15864213830101465935:0/?back=1&afterReload=1\n",
      "https://e.mail.ru/inbox/0:15928122631466796051:0/?back=1&afterReload=1\n",
      "https://e.mail.ru/inbox/0:15876299720072288306:0/?back=1&afterReload=1\n",
      "https://e.mail.ru/inbox/0:15803710461826977958:0/?back=1&afterReload=1\n",
      "https://e.mail.ru/inbox/0:15775983221487809108:0/?back=1&afterReload=1\n",
      "https://e.mail.ru/inbox/0:15930465691559994841:0/?back=1&afterReload=1\n",
      "https://e.mail.ru/inbox/0:15850390890443255151:0/?back=1&afterReload=1\n",
      "https://e.mail.ru/inbox/0:15916909391509307329:0/?back=1&afterReload=1\n",
      "https://e.mail.ru/inbox/0:15770853370133976390:0/?back=1&afterReload=1\n",
      "https://e.mail.ru/inbox/0:15832391980428655452:0/?back=1&afterReload=1\n",
      "https://e.mail.ru/inbox/0:15912656220086565294:0/?back=1&afterReload=1\n",
      "https://e.mail.ru/inbox/0:15888399800050824384:0/?back=1&afterReload=1\n",
      "https://e.mail.ru/inbox/0:15847933051304389121:0/?back=1&afterReload=1\n",
      "https://e.mail.ru/inbox/0:15846057912039549135:0/?back=1&afterReload=1\n",
      "https://e.mail.ru/inbox/0:15754799281320166880:0/?back=1&afterReload=1\n",
      "https://e.mail.ru/inbox/0:15801159540216588471:0/?back=1&afterReload=1\n",
      "https://e.mail.ru/inbox/0:15790052190194641088:0/?back=1&afterReload=1\n",
      "https://e.mail.ru/inbox/0:15786459501116905755:0/?back=1&afterReload=1\n",
      "https://e.mail.ru/inbox/0:15809895151872286385:0/?back=1&afterReload=1\n",
      "https://e.mail.ru/inbox/0:15765185962127425268:0/?back=1&afterReload=1\n",
      "https://e.mail.ru/inbox/0:15790761860956621349:0/?back=1&afterReload=1\n",
      "https://e.mail.ru/inbox/0:15942107880564527590:0/?back=1&afterReload=1\n",
      "https://e.mail.ru/inbox/0:15942249771335331442:0/?back=1&afterReload=1\n",
      "https://e.mail.ru/inbox/0:15815099911544373596:0/?back=1&afterReload=1\n",
      "https://e.mail.ru/inbox/0:15880992451487165915:0/?back=1&afterReload=1\n",
      "https://e.mail.ru/inbox/0:15804591281719710966:0/?back=1&afterReload=1\n",
      "https://e.mail.ru/inbox/0:15760802300436509450:0/?back=1&afterReload=1\n",
      "https://e.mail.ru/inbox/0:15816831081411616756:0/?back=1&afterReload=1\n",
      "https://e.mail.ru/inbox/0:15767602520706373943:0/?back=1&afterReload=1\n",
      "https://e.mail.ru/inbox/0:15857222850808052039:0/?back=1&afterReload=1\n",
      "https://e.mail.ru/inbox/0:15774303611874689302:0/?back=1&afterReload=1\n",
      "https://e.mail.ru/inbox/0:15809912170737313960:0/?back=1&afterReload=1\n",
      "https://e.mail.ru/inbox/0:15833971620830796947:0/?back=1&afterReload=1\n",
      "https://e.mail.ru/inbox/0:15880762581570684857:0/?back=1&afterReload=1\n",
      "https://e.mail.ru/inbox/0:15766495260447351772:0/?back=1&afterReload=1\n",
      "https://e.mail.ru/inbox/0:15868527020077441337:0/?back=1&afterReload=1\n",
      "https://e.mail.ru/inbox/0:15941589901660897278:0/?back=1&afterReload=1\n",
      "https://e.mail.ru/inbox/0:15757075791603327457:0/?back=1&afterReload=1\n",
      "https://e.mail.ru/inbox/0:15764992020536407791:0/?back=1&afterReload=1\n",
      "https://e.mail.ru/inbox/0:15801955250431376485:0/?back=1&afterReload=1\n",
      "https://e.mail.ru/inbox/0:15801284861550961678:0/?back=1&afterReload=1\n",
      "https://e.mail.ru/inbox/0:15838444090460424713:0/?back=1&afterReload=1\n",
      "https://e.mail.ru/inbox/0:15912578221354683406:0/?back=1&afterReload=1\n",
      "https://e.mail.ru/inbox/0:15753945711397198180:0/?back=1&afterReload=1\n",
      "https://e.mail.ru/inbox/0:15895312401585485759:0/?back=1&afterReload=1\n",
      "https://e.mail.ru/inbox/0:15827056172028754120:0/?back=1&afterReload=1\n",
      "https://e.mail.ru/inbox/0:15898761780935704669:0/?back=1&afterReload=1\n",
      "https://e.mail.ru/inbox/0:15767388101073307047:0/?back=1&afterReload=1\n",
      "https://e.mail.ru/inbox/0:15771716660650294765:0/?back=1&afterReload=1\n",
      "https://e.mail.ru/inbox/0:15859062330581247987:0/?back=1&afterReload=1\n",
      "https://e.mail.ru/inbox/0:15844476960132933453:0/?back=1&afterReload=1\n",
      "https://e.mail.ru/inbox/0:15795924740321454169:0/?back=1&afterReload=1\n",
      "https://e.mail.ru/inbox/0:15765861931904550610:0/?back=1&afterReload=1\n",
      "https://e.mail.ru/inbox/0:15889881391111889898:0/?back=1&afterReload=1\n",
      "https://e.mail.ru/inbox/0:15870303771528933455:0/?back=1&afterReload=1\n",
      "https://e.mail.ru/inbox/0:15916926590566676871:0/?back=1&afterReload=1\n",
      "https://e.mail.ru/inbox/0:15878034481961882282:0/?back=1&afterReload=1\n",
      "https://e.mail.ru/inbox/0:15792483662136390132:0/?back=1&afterReload=1\n"
     ]
    },
    {
     "name": "stdout",
     "output_type": "stream",
     "text": [
      "https://e.mail.ru/inbox/0:15900494611228569810:0/?back=1&afterReload=1\n",
      "https://e.mail.ru/inbox/0:15808191120443917798:0/?back=1&afterReload=1\n",
      "https://e.mail.ru/inbox/0:15796784172116936300:0/?back=1&afterReload=1\n",
      "https://e.mail.ru/inbox/0:15942247891518516522:0/?back=1&afterReload=1\n",
      "https://e.mail.ru/inbox/0:15777766320379128391:0/?back=1&afterReload=1\n",
      "https://e.mail.ru/inbox/0:15883315000526945471:0/?back=1&afterReload=1\n"
     ]
    }
   ],
   "source": [
    "rez = []\n",
    "for link in link_set:\n",
    "    driver.get(link)\n",
    "    time.sleep(4)\n",
    "    \n",
    "    mail = {\n",
    "        'theme': driver.find_element_by_xpath('//*[@id=\"app-canvas\"]/div/div[1]/div[1]/div/div[2]/div[2]/div/div/div/div/div/div/div[1]/div[2]/h2').text,\n",
    "        'sender': driver.find_element_by_xpath('//*[@id=\"app-canvas\"]/div/div[1]/div[1]/div/div[2]/div[2]/div/div/div/div/div/div/div[2]/div[1]/div[1]/div/div[2]/div[1]/span').text,\n",
    "        'date': driver.find_element_by_xpath('//*[@id=\"app-canvas\"]/div/div[1]/div[1]/div/div[2]/div[2]/div/div/div/div/div/div/div[2]/div[1]/div[1]/div/div[2]/div[1]/div[1]').text,\n",
    "        'text': driver.find_element_by_xpath('//*[@id=\"app-canvas\"]/div/div[1]/div[1]/div/div[2]/div[2]/div/div/div/div/div/div/div[2]/div[1]/div[2]/div[2]/div/div/div').text\n",
    "                }\n",
    "    \n",
    "    rez.append(mail)    "
   ]
  },
  {
   "cell_type": "code",
   "execution_count": 171,
   "metadata": {},
   "outputs": [
    {
     "data": {
      "text/plain": [
       "<pymongo.results.InsertManyResult at 0xd50148>"
      ]
     },
     "execution_count": 171,
     "metadata": {},
     "output_type": "execute_result"
    }
   ],
   "source": [
    "em.insert_many(rez)"
   ]
  },
  {
   "cell_type": "code",
   "execution_count": 166,
   "metadata": {},
   "outputs": [
    {
     "data": {
      "text/plain": [
       "122"
      ]
     },
     "execution_count": 166,
     "metadata": {},
     "output_type": "execute_result"
    }
   ],
   "source": [
    "\"\"\"rez = []\n",
    "for link in link_set:\n",
    "    print(link)\n",
    "    driver.get(link)\n",
    "    time.sleep(5)\n",
    "    \n",
    "    theme = driver.find_element_by_xpath(\"//h2[@class='thread__subject thread__subject_pony-mode']\").text,\n",
    "    sender = driver.find_element_by_xpath(\"//span[@class='letter-contact letter-contact_active']\").text,\n",
    "    date = driver.find_element_by_xpath(\"//div[@class='letter__date']\").text,\n",
    "    text = driver.find_element_by_xpath(\"//td[@align='center']\").text\n",
    "Так почему то не работает, хотя если работать с отдельной ссылкой, не в цикле - все норм,\n",
    "иначе ругается, что не может найти элемент, хотя спокойно на дебаге выгружает...\n",
    "мистика\n",
    "\"\"\""
   ]
  },
  {
   "cell_type": "markdown",
   "metadata": {},
   "source": [
    "Написать программу, которая собирает «Хиты продаж» с сайта техники mvideo и складывает данные в БД. Магазины можно выбрать свои. Главный критерий выбора: динамически загружаемые товары"
   ]
  },
  {
   "cell_type": "code",
   "execution_count": 222,
   "metadata": {},
   "outputs": [],
   "source": [
    "chrome_options = Options()\n",
    "chrome_options.add_argument('start-maximized')\n",
    "driver = webdriver.Chrome(options=chrome_options)\n",
    "driver.get('https://www.mvideo.ru/')\n",
    "rez_v = []\n",
    "mvideo = db.mvideo"
   ]
  },
  {
   "cell_type": "code",
   "execution_count": 223,
   "metadata": {},
   "outputs": [],
   "source": [
    "# чет не получается, не вижу к чему приаязаться, а все делать через подобный xpath нет желания\n",
    "# надеюсь на лекцию\n",
    "\n",
    "\n",
    "elem = driver.find_element_by_xpath('/html/body/div[1]/div/div[3]/div[7]/div/div[2]/div/div/div/div[1]')\n",
    "target = ActionChains(driver)\n",
    "target.move_to_element(elem).perform() \n",
    "\n",
    "while True:\n",
    "    try:\n",
    "        hits = {\n",
    "            'name': driver.find_element_by_xpath('/html/body/div[1]/div/div[3]/div[7]/div/div[2]/div/div/div/div[1]/div/ul/li[1]/div/div[2]/div[1]/h4/a').text\n",
    "        }\n",
    "\n",
    "        rez_v.append(hits)\n",
    "        time.sleep(3)\n",
    "       # button = driver.find_element_by_xpath('/html/body/div[1]/div/div[3]/div[7]/div/div[2]/div/div/div/div[1]/a[2]')\n",
    "       # button.click()\n",
    "        \n",
    "        button = WebDriverWait(driver,10).until(\n",
    "            EC.presence_of_element_located((By.XPATH,'/html/body/div[1]/div/div[3]/div[7]/div/div[2]/div/div/div/div[1]/a[2]'))\n",
    "        )\n",
    "    except:\n",
    "        break"
   ]
  },
  {
   "cell_type": "code",
   "execution_count": 224,
   "metadata": {},
   "outputs": [
    {
     "data": {
      "text/plain": [
       "[{'name': 'Смартфон Samsung Galaxy Note10 Aura Glow (SM-N970F)'},\n",
       " {'name': 'Смартфон Samsung Galaxy Note10 Aura Glow (SM-N970F)'},\n",
       " {'name': 'Смартфон Samsung Galaxy Note10 Aura Glow (SM-N970F)'},\n",
       " {'name': 'Смартфон Samsung Galaxy Note10 Aura Glow (SM-N970F)'},\n",
       " {'name': 'Смартфон Samsung Galaxy Note10 Aura Glow (SM-N970F)'},\n",
       " {'name': 'Смартфон Samsung Galaxy Note10 Aura Glow (SM-N970F)'},\n",
       " {'name': 'Смартфон Samsung Galaxy Note10 Aura Glow (SM-N970F)'},\n",
       " {'name': 'Смартфон Samsung Galaxy Note10 Aura Glow (SM-N970F)'},\n",
       " {'name': 'Смартфон Samsung Galaxy Note10 Aura Glow (SM-N970F)'},\n",
       " {'name': 'Смартфон Samsung Galaxy Note10 Aura Glow (SM-N970F)'},\n",
       " {'name': 'Смартфон Samsung Galaxy Note10 Aura Glow (SM-N970F)'},\n",
       " {'name': 'Смартфон Samsung Galaxy Note10 Aura Glow (SM-N970F)'},\n",
       " {'name': 'Смартфон Samsung Galaxy Note10 Aura Glow (SM-N970F)'},\n",
       " {'name': 'Смартфон Samsung Galaxy Note10 Aura Glow (SM-N970F)'}]"
      ]
     },
     "execution_count": 224,
     "metadata": {},
     "output_type": "execute_result"
    }
   ],
   "source": [
    "rez_v"
   ]
  },
  {
   "cell_type": "code",
   "execution_count": null,
   "metadata": {},
   "outputs": [],
   "source": []
  },
  {
   "cell_type": "code",
   "execution_count": null,
   "metadata": {},
   "outputs": [],
   "source": []
  }
 ],
 "metadata": {
  "kernelspec": {
   "display_name": "Python 3",
   "language": "python",
   "name": "python3"
  },
  "language_info": {
   "codemirror_mode": {
    "name": "ipython",
    "version": 3
   },
   "file_extension": ".py",
   "mimetype": "text/x-python",
   "name": "python",
   "nbconvert_exporter": "python",
   "pygments_lexer": "ipython3",
   "version": "3.8.2"
  }
 },
 "nbformat": 4,
 "nbformat_minor": 4
}
